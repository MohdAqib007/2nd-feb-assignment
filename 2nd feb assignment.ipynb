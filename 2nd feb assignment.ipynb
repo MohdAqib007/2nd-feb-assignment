{
 "cells": [
  {
   "cell_type": "code",
   "execution_count": null,
   "id": "e657ea1d-a113-493a-8ece-197f17931fdc",
   "metadata": {},
   "outputs": [],
   "source": [
    "#2nd feb assignment"
   ]
  },
  {
   "cell_type": "code",
   "execution_count": null,
   "id": "75f6bc52-c25e-4c51-b099-318d807d9d4b",
   "metadata": {},
   "outputs": [],
   "source": [
    "''' Q.1 Ans- A \"For\" Loop is used to repeat a specific block of code a known number of times.\n",
    "For example, if we want to check the grade of every student in the class, we loop from 1 to that number.\n",
    "When the number of times is not known before hand, we use a \"While\" loop.\n",
    "\n",
    "The major difference between for loop and while loop is that in the case of for loop the number of iterations is known\n",
    "whereas in the case of the while loop number of iterations is unknown and the statement will run until the condition is proved false.'''"
   ]
  },
  {
   "cell_type": "code",
   "execution_count": null,
   "id": "4a77bfd5-585e-4d18-96e9-fda1d765f853",
   "metadata": {},
   "outputs": [],
   "source": [
    "#Q.2 Ans- first 10 natural number's sum using for loop\n",
    "sum = 0\n",
    "for i in (range (1, 11)):\n",
    "    sum = sum + i\n",
    "print(sum)"
   ]
  },
  {
   "cell_type": "code",
   "execution_count": 2,
   "id": "0be89d54-6650-4db1-9a52-ee767cf68a58",
   "metadata": {},
   "outputs": [
    {
     "name": "stdout",
     "output_type": "stream",
     "text": [
      "3628800\n"
     ]
    }
   ],
   "source": [
    "#Q.2 Ans- first 10 natural number's product using for loop\n",
    "product = 1\n",
    "for i in (range (1, 11)):\n",
    "    product = product * i\n",
    "print(product)"
   ]
  },
  {
   "cell_type": "code",
   "execution_count": null,
   "id": "1d52bf21-add6-4109-b06f-26b2c01a85ef",
   "metadata": {},
   "outputs": [],
   "source": [
    "#Q2. Ans Using while loop to calculate sum and product of first 10 natural numbers\n",
    "sum = 0\n",
    "product = 1\n",
    "i = 1\n",
    "\n",
    "while i <= 10:\n",
    "    sum += i\n",
    "    product *= i\n",
    "    i += 1\n",
    "\n",
    "print(\"Sum of first 10 natural numbers:\", sum)\n",
    "print(\"Product of first 10 natural numbers:\", product)"
   ]
  },
  {
   "cell_type": "code",
   "execution_count": null,
   "id": "e814389d-1a12-458f-bba2-db0921532caa",
   "metadata": {},
   "outputs": [],
   "source": []
  },
  {
   "cell_type": "code",
   "execution_count": null,
   "id": "c78ecd22-e3af-4dc2-a3ec-1dea1848b56e",
   "metadata": {},
   "outputs": [],
   "source": [
    "#Q.3 Ans-\n",
    "\n",
    "units = int(input(\"Enter the units of electricity consumed in a month: \"))\n",
    "\n",
    "# Initializing bill to zero\n",
    "bill = 0\n",
    "\n",
    "# Checking the units and calculating the bill accordingly\n",
    "if units <= 100:\n",
    "    bill = units * 4.5\n",
    "elif units <= 200:\n",
    "    bill = 100 * 4.5 + (units - 100) * 6\n",
    "elif units <= 300:\n",
    "    bill = 100 * 4.5 + 100 * 6 + (units - 200) * 10\n",
    "else:\n",
    "    bill = 100 * 4.5 + 100 * 6 + 100 * 10 + (units - 300) * 20\n",
    "    \n",
    "print(\"Total electricity bill is:\", bill)"
   ]
  },
  {
   "cell_type": "code",
   "execution_count": null,
   "id": "63db3f51-473d-4a18-81ac-5a85382b64b9",
   "metadata": {},
   "outputs": [],
   "source": []
  },
  {
   "cell_type": "code",
   "execution_count": null,
   "id": "1ba9639e-39e2-43d8-b742-1393c3b75c55",
   "metadata": {},
   "outputs": [],
   "source": [
    "#Q.4 Ans- Using for loop to calculate cube of each number and append if it's divisible by 4 or 5\n",
    "numbers = list(range(1, 101))\n",
    "cubes = []\n",
    "\n",
    "for num in numbers:\n",
    "    cube = num ** 3\n",
    "    if cube % 4 == 0 or cube % 5 == 0:\n",
    "        cubes.append(num)\n",
    "\n",
    "print(cubes)"
   ]
  },
  {
   "cell_type": "code",
   "execution_count": null,
   "id": "0dc9bfc9-a3a9-4b01-bed1-ddf99f6ade60",
   "metadata": {},
   "outputs": [],
   "source": [
    "#Q.4 Ans- Using while loop to calculate cube of each number and append if it's divisible by 4 or 5\n",
    "numbers = list(range(1, 101))\n",
    "cubes = []\n",
    "\n",
    "i = 0\n",
    "while i < len(numbers):\n",
    "    cube = numbers[i] ** 3\n",
    "    if cube % 4 == 0 or cube % 5 == 0:\n",
    "        cubes.append(numbers[i])\n",
    "    i += 1\n",
    "\n",
    "print(cubes)"
   ]
  },
  {
   "cell_type": "code",
   "execution_count": null,
   "id": "b07046c0-39d2-4d21-a9df-0180e5c6f301",
   "metadata": {},
   "outputs": [],
   "source": []
  },
  {
   "cell_type": "code",
   "execution_count": null,
   "id": "a816a012-54bf-4347-83b4-77f9b83cf4db",
   "metadata": {},
   "outputs": [],
   "source": [
    "#Q.5 Ans-\n",
    "str = \"I want to become a data scientist\"\n",
    "\n",
    "# Counting the vowels using list comprehension\n",
    "vowel_count = len([char for char in str if char in \"aeiouAEIOU\"])\n",
    "\n",
    "# Printing the vowel count\n",
    "print(\"Number of vowels in the string:\", vowel_count)"
   ]
  }
 ],
 "metadata": {
  "kernelspec": {
   "display_name": "Python 3 (ipykernel)",
   "language": "python",
   "name": "python3"
  },
  "language_info": {
   "codemirror_mode": {
    "name": "ipython",
    "version": 3
   },
   "file_extension": ".py",
   "mimetype": "text/x-python",
   "name": "python",
   "nbconvert_exporter": "python",
   "pygments_lexer": "ipython3",
   "version": "3.10.8"
  }
 },
 "nbformat": 4,
 "nbformat_minor": 5
}
